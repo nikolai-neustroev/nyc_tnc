{
 "cells": [
  {
   "cell_type": "markdown",
   "metadata": {},
   "source": [
    "# Analyzing NYC TLC's \"For Hire Vehicles\" dataset"
   ]
  },
  {
   "cell_type": "markdown",
   "metadata": {},
   "source": [
    "August 14, 2018"
   ]
  },
  {
   "cell_type": "markdown",
   "metadata": {},
   "source": [
    "This notebook contains a humble analysis of \"For Hire Vehicles (FHV) - Active\" open dataset issued by the New York City Taxi & Limousine Commission. It is concentrated on transportation network companies (Uber, Lyft, Via and Juno), not on all FHV bases licenced by the Commission.\n",
    "\n",
    "You may familiarize with the dataset here: https://data.cityofnewyork.us/Transportation/For-Hire-Vehicles-FHV-Active/8wbx-tsch"
   ]
  },
  {
   "cell_type": "code",
   "execution_count": 1,
   "metadata": {},
   "outputs": [],
   "source": [
    "import pandas as pd\n",
    "import matplotlib.pyplot as plt\n",
    "from sodapy import Socrata"
   ]
  },
  {
   "cell_type": "markdown",
   "metadata": {},
   "source": [
    "Let's use the Socrata Open Data API to import the dataset. Drop columns that will not be necessary."
   ]
  },
  {
   "cell_type": "code",
   "execution_count": 2,
   "metadata": {},
   "outputs": [
    {
     "name": "stderr",
     "output_type": "stream",
     "text": [
      "WARNING:root:Requests made without an app_token will be subject to strict throttling limits.\n"
     ]
    }
   ],
   "source": [
    "client = Socrata(\"data.cityofnewyork.us\", None)\n",
    "results = client.get(\"k5sk-y8y9\", limit=1000000)\n",
    "df = pd.DataFrame.from_records(results)\n",
    "df = df.drop([\"vehicle_license_number\", \"name\", \"license_type\", \n",
    "         \"permit_license_number\", \"dmv_license_plate_number\", \n",
    "         \"hack_up_date\", \"base_telephone_number\", \"website\", \n",
    "         \"base_address\"], axis=1);"
   ]
  },
  {
   "cell_type": "markdown",
   "metadata": {},
   "source": [
    "Multiple bases doing business under TNC brands in New York. Let's \"reveal\" them. DBA names can be found at TLC's website: http://www.nyc.gov/html/tlc/html/industry/current_licensees.shtml"
   ]
  },
  {
   "cell_type": "code",
   "execution_count": 3,
   "metadata": {},
   "outputs": [],
   "source": [
    "df = df.replace([\"KUCHEN LLC\", \"WEITER LLC\", \"DANACH-NY,LLC\", \"ZWANZIG-NY,LLC\", \n",
    "                  \"UNTER LLC\", \"SECHZEHN-NY, LLC\", \"DRINNEN-NY LLC\", \"ELF-NY,LLC\", \n",
    "                  \"VIERZEHN-NY, LLC\", \"DREIZEHN-NY, LLC\", \"ACHTZEHN-NY, LLC\", \n",
    "                  \"FUNF-NY, LLC\", \"DREIST NY LLC\", \"NEUN-NY,LLC\", \"FUNFZEHN-NY, LLC\", \n",
    "                  \"SECHS-NY, LLC\", \"ACHT-NY,LLC\", \"VIER-NY,LLC\", \"GRUN LLC\", \n",
    "                  \"ZWEI-NY,LLC\", \"HINTER LLC\", \"ZEHN-NY,LLC.\", \"ZWOLF-NY, LLC\", \n",
    "                  \"EINS-NY,LLC\", \"SCHMECKEN LLC\", \"EINUNDZWANZIG-NY, LLC\", \n",
    "                  \"ABATAR LLC\", \"SIEBEN-NY,LLC\", \"SIEBZEHN-NY,LLC\", \"NEUNZEHN-NY, LLC\"], \"UBER\")\n",
    "\n",
    "df = df.replace([\"TRI-CITY,LLC\", \"ENDOR CAR & DRIVER,LLC.\"], \"LYFT\")\n",
    "\n",
    "df = df.replace([\"FLATIRON TRANSIT LLC\", \"GREENPOINT TRANSIT LLC\"], \"VIA\")\n",
    "\n",
    "df = df.replace([\"SABO ONE LLC\", \"SABO TWO LLC\", \"VULCAN CARS LLC\", \"OMAHA LLC\"], \"JUNO\")"
   ]
  },
  {
   "cell_type": "code",
   "execution_count": 4,
   "metadata": {},
   "outputs": [],
   "source": [
    "TNC = [\"UBER\", \"LYFT\", \"VIA\", \"JUNO\"]\n",
    "df = df[df['base_name'].isin(TNC)]\n",
    "df.vehicle_year = pd.to_numeric(df.vehicle_year, errors='coerce')"
   ]
  },
  {
   "cell_type": "markdown",
   "metadata": {},
   "source": [
    "The first three characters of the VIN number is the World Manufacturer Identifier (car's brand). Let's create a column with WMI numbers."
   ]
  },
  {
   "cell_type": "code",
   "execution_count": 5,
   "metadata": {},
   "outputs": [],
   "source": [
    "df['WMI'] = df['vehicle_vin_number'].str[:3]"
   ]
  },
  {
   "cell_type": "code",
   "execution_count": 6,
   "metadata": {},
   "outputs": [
    {
     "data": {
      "text/plain": [
       "Text(0.5,0,'Frequency')"
      ]
     },
     "execution_count": 6,
     "metadata": {},
     "output_type": "execute_result"
    },
    {
     "data": {
      "image/png": "[encoded data removed]",
      "text/plain": [
       "<Figure size 432x288 with 1 Axes>"
      ]
     },
     "metadata": {},
     "output_type": "display_data"
    }
   ],
   "source": [
    "df.base_name.value_counts().plot(kind='barh')\n",
    "plt.title('Number of appearances in dataset')\n",
    "plt.xlabel('Frequency')"
   ]
  },
  {
   "cell_type": "code",
   "execution_count": 7,
   "metadata": {},
   "outputs": [
    {
     "data": {
      "text/plain": [
       "UBER    77182\n",
       "VIA      1620\n",
       "LYFT     1138\n",
       "JUNO      330\n",
       "Name: base_name, dtype: int64"
      ]
     },
     "execution_count": 7,
     "metadata": {},
     "output_type": "execute_result"
    }
   ],
   "source": [
    "df.base_name.value_counts()"
   ]
  },
  {
   "cell_type": "markdown",
   "metadata": {},
   "source": [
    "As we may see Uber a way more vehicles in New York than other TNCs. Not surprising. A more interesting thing is that Via has 500 more vehicles than Lyft."
   ]
  },
  {
   "cell_type": "code",
   "execution_count": 8,
   "metadata": {},
   "outputs": [
    {
     "data": {
      "text/html": [
       "<div>\n",
       "<style scoped>\n",
       "    .dataframe tbody tr th:only-of-type {\n",
       "        vertical-align: middle;\n",
       "    }\n",
       "\n",
       "    .dataframe tbody tr th {\n",
       "        vertical-align: top;\n",
       "    }\n",
       "\n",
       "    .dataframe thead th {\n",
       "        text-align: right;\n",
       "    }\n",
       "</style>\n",
       "<table border=\"1\" class=\"dataframe\">\n",
       "  <thead>\n",
       "    <tr style=\"text-align: right;\">\n",
       "      <th></th>\n",
       "      <th>vehicle_year</th>\n",
       "    </tr>\n",
       "  </thead>\n",
       "  <tbody>\n",
       "    <tr>\n",
       "      <th>count</th>\n",
       "      <td>80270.000000</td>\n",
       "    </tr>\n",
       "    <tr>\n",
       "      <th>mean</th>\n",
       "      <td>2015.463710</td>\n",
       "    </tr>\n",
       "    <tr>\n",
       "      <th>std</th>\n",
       "      <td>37.351299</td>\n",
       "    </tr>\n",
       "    <tr>\n",
       "      <th>min</th>\n",
       "      <td>1014.000000</td>\n",
       "    </tr>\n",
       "    <tr>\n",
       "      <th>25%</th>\n",
       "      <td>2014.000000</td>\n",
       "    </tr>\n",
       "    <tr>\n",
       "      <th>50%</th>\n",
       "      <td>2015.000000</td>\n",
       "    </tr>\n",
       "    <tr>\n",
       "      <th>75%</th>\n",
       "      <td>2017.000000</td>\n",
       "    </tr>\n",
       "    <tr>\n",
       "      <th>max</th>\n",
       "      <td>7143.000000</td>\n",
       "    </tr>\n",
       "  </tbody>\n",
       "</table>\n",
       "</div>"
      ],
      "text/plain": [
       "       vehicle_year\n",
       "count  80270.000000\n",
       "mean    2015.463710\n",
       "std       37.351299\n",
       "min     1014.000000\n",
       "25%     2014.000000\n",
       "50%     2015.000000\n",
       "75%     2017.000000\n",
       "max     7143.000000"
      ]
     },
     "execution_count": 8,
     "metadata": {},
     "output_type": "execute_result"
    }
   ],
   "source": [
    "df.describe()"
   ]
  },
  {
   "cell_type": "markdown",
   "metadata": {},
   "source": [
    "The mean age of a TNC car in New York is 3 years."
   ]
  },
  {
   "cell_type": "code",
   "execution_count": 9,
   "metadata": {},
   "outputs": [],
   "source": [
    "%run WMId.py\n",
    "# WMId.py file contains a dictionary with WMIs and car brands"
   ]
  },
  {
   "cell_type": "code",
   "execution_count": 10,
   "metadata": {},
   "outputs": [],
   "source": [
    "brand = []\n",
    "\n",
    "for n in df['WMI']:\n",
    "    if n in WMId:\n",
    "        brand.append(WMId[n])\n",
    "    else:\n",
    "        brand.append('Unknown')\n",
    "        \n",
    "df['brand'] = brand"
   ]
  },
  {
   "cell_type": "code",
   "execution_count": 11,
   "metadata": {},
   "outputs": [
    {
     "name": "stdout",
     "output_type": "stream",
     "text": [
      "Toyota           37895\n",
      "Honda            11757\n",
      "Nissan            7118\n",
      "Chevrolet         4081\n",
      "Hyundai           3689\n",
      "Ford              2073\n",
      "Lincoln           1621\n",
      "Acura             1087\n",
      "Lexus             1068\n",
      "Chrysler           971\n",
      "Cadillac           883\n",
      "GMC                839\n",
      "Mercedes-Benz      820\n",
      "Unknown            567\n",
      "Volkswagen         442\n",
      "Jeep               350\n",
      "BMW                339\n",
      "Mitsubishi         265\n",
      "Mazda              260\n",
      "Kia                237\n",
      "Buick              167\n",
      "Audi               166\n",
      "Subaru             154\n",
      "Hyundai, Kia        98\n",
      "Pontiac             90\n",
      "Dodge               62\n",
      "Volvo               27\n",
      "Infiniti            11\n",
      "Land Rover          11\n",
      "Mercury             11\n",
      "Jaguar               7\n",
      "Suzuki               5\n",
      "Porsche              5\n",
      "Scion                4\n",
      "Saturn               1\n",
      "Maserati             1\n",
      "Name: brand, dtype: int64\n"
     ]
    },
    {
     "data": {
      "text/plain": [
       "Text(0.5,0,'Frequency')"
      ]
     },
     "execution_count": 11,
     "metadata": {},
     "output_type": "execute_result"
    },
    {
     "data": {
      "image/png": "[encoded data removed]",
      "text/plain": [
       "<Figure size 432x288 with 1 Axes>"
      ]
     },
     "metadata": {},
     "output_type": "display_data"
    }
   ],
   "source": [
    "df_uber = pd.DataFrame()\n",
    "\n",
    "df_uber = df_uber.append(df[df['base_name'] == \"UBER\"])\n",
    "\n",
    "print df_uber.brand.value_counts()\n",
    "\n",
    "df_uber.brand.value_counts().plot(kind='barh')\n",
    "plt.title('Number of appearances in dataset')\n",
    "plt.xlabel('Frequency')"
   ]
  },
  {
   "cell_type": "markdown",
   "metadata": {},
   "source": [
    "As you may see Toyota is the most popular car used in Uber. Almost 38 thousands in New York!"
   ]
  },
  {
   "cell_type": "code",
   "execution_count": 12,
   "metadata": {},
   "outputs": [
    {
     "data": {
      "text/plain": [
       "count    77182.000000\n",
       "mean      2015.421212\n",
       "std         36.347551\n",
       "min       2001.000000\n",
       "25%       2014.000000\n",
       "50%       2015.000000\n",
       "75%       2017.000000\n",
       "max       7143.000000\n",
       "Name: vehicle_year, dtype: float64"
      ]
     },
     "execution_count": 12,
     "metadata": {},
     "output_type": "execute_result"
    }
   ],
   "source": [
    "df_uber.vehicle_year.describe()"
   ]
  },
  {
   "cell_type": "code",
   "execution_count": 13,
   "metadata": {},
   "outputs": [
    {
     "name": "stdout",
     "output_type": "stream",
     "text": [
      "Toyota           651\n",
      "Honda            171\n",
      "Hyundai           72\n",
      "Nissan            71\n",
      "Chevrolet         29\n",
      "Lincoln           23\n",
      "Ford              22\n",
      "Chrysler          18\n",
      "Acura             12\n",
      "Lexus             12\n",
      "Jeep               9\n",
      "GMC                9\n",
      "Mitsubishi         5\n",
      "Mercedes-Benz      5\n",
      "Cadillac           5\n",
      "Volkswagen         4\n",
      "Subaru             4\n",
      "Audi               3\n",
      "Mazda              3\n",
      "Kia                3\n",
      "BMW                2\n",
      "Hyundai, Kia       2\n",
      "Dodge              1\n",
      "Unknown            1\n",
      "Porsche            1\n",
      "Name: brand, dtype: int64\n"
     ]
    },
    {
     "data": {
      "text/plain": [
       "Text(0.5,0,'Frequency')"
      ]
     },
     "execution_count": 13,
     "metadata": {},
     "output_type": "execute_result"
    },
    {
     "data": {
      "image/png": "[encoded data removed]",
      "text/plain": [
       "<Figure size 432x288 with 1 Axes>"
      ]
     },
     "metadata": {},
     "output_type": "display_data"
    }
   ],
   "source": [
    "df_lyft = pd.DataFrame()\n",
    "\n",
    "df_lyft = df_lyft.append(df[df['base_name'] == \"LYFT\"])\n",
    "\n",
    "print df_lyft.brand.value_counts()\n",
    "\n",
    "df_lyft.brand.value_counts().plot(kind='barh')\n",
    "plt.title('Number of appearances in dataset')\n",
    "plt.xlabel('Frequency')"
   ]
  },
  {
   "cell_type": "code",
   "execution_count": 14,
   "metadata": {},
   "outputs": [
    {
     "data": {
      "text/html": [
       "<div>\n",
       "<style scoped>\n",
       "    .dataframe tbody tr th:only-of-type {\n",
       "        vertical-align: middle;\n",
       "    }\n",
       "\n",
       "    .dataframe tbody tr th {\n",
       "        vertical-align: top;\n",
       "    }\n",
       "\n",
       "    .dataframe thead th {\n",
       "        text-align: right;\n",
       "    }\n",
       "</style>\n",
       "<table border=\"1\" class=\"dataframe\">\n",
       "  <thead>\n",
       "    <tr style=\"text-align: right;\">\n",
       "      <th></th>\n",
       "      <th>vehicle_year</th>\n",
       "    </tr>\n",
       "  </thead>\n",
       "  <tbody>\n",
       "    <tr>\n",
       "      <th>count</th>\n",
       "      <td>1138.000000</td>\n",
       "    </tr>\n",
       "    <tr>\n",
       "      <th>mean</th>\n",
       "      <td>2017.831283</td>\n",
       "    </tr>\n",
       "    <tr>\n",
       "      <th>std</th>\n",
       "      <td>88.974217</td>\n",
       "    </tr>\n",
       "    <tr>\n",
       "      <th>min</th>\n",
       "      <td>2001.000000</td>\n",
       "    </tr>\n",
       "    <tr>\n",
       "      <th>25%</th>\n",
       "      <td>2015.000000</td>\n",
       "    </tr>\n",
       "    <tr>\n",
       "      <th>50%</th>\n",
       "      <td>2016.000000</td>\n",
       "    </tr>\n",
       "    <tr>\n",
       "      <th>75%</th>\n",
       "      <td>2016.000000</td>\n",
       "    </tr>\n",
       "    <tr>\n",
       "      <th>max</th>\n",
       "      <td>5016.000000</td>\n",
       "    </tr>\n",
       "  </tbody>\n",
       "</table>\n",
       "</div>"
      ],
      "text/plain": [
       "       vehicle_year\n",
       "count   1138.000000\n",
       "mean    2017.831283\n",
       "std       88.974217\n",
       "min     2001.000000\n",
       "25%     2015.000000\n",
       "50%     2016.000000\n",
       "75%     2016.000000\n",
       "max     5016.000000"
      ]
     },
     "execution_count": 14,
     "metadata": {},
     "output_type": "execute_result"
    }
   ],
   "source": [
    "df_lyft.describe()"
   ]
  },
  {
   "cell_type": "markdown",
   "metadata": {},
   "source": [
    "The mean age of a Lyft car in New York is 1 year. Quite impressive!"
   ]
  },
  {
   "cell_type": "code",
   "execution_count": 15,
   "metadata": {},
   "outputs": [
    {
     "name": "stdout",
     "output_type": "stream",
     "text": [
      "Mercedes-Benz    936\n",
      "Toyota           267\n",
      "Chevrolet        172\n",
      "Honda             65\n",
      "Nissan            36\n",
      "Ford              31\n",
      "Chrysler          23\n",
      "Lincoln           17\n",
      "Cadillac          15\n",
      "Hyundai           14\n",
      "GMC               13\n",
      "Acura              7\n",
      "Lexus              6\n",
      "Unknown            6\n",
      "Jeep               3\n",
      "Mazda              2\n",
      "Hyundai, Kia       2\n",
      "BMW                2\n",
      "Mitsubishi         2\n",
      "Volkswagen         1\n",
      "Name: brand, dtype: int64\n"
     ]
    },
    {
     "data": {
      "text/plain": [
       "Text(0.5,0,'Frequency')"
      ]
     },
     "execution_count": 15,
     "metadata": {},
     "output_type": "execute_result"
    },
    {
     "data": {
      "image/png": "[encoded data removed]",
      "text/plain": [
       "<Figure size 432x288 with 1 Axes>"
      ]
     },
     "metadata": {},
     "output_type": "display_data"
    }
   ],
   "source": [
    "df_via = pd.DataFrame()\n",
    "\n",
    "df_via = df_via.append(df[df['base_name'] == \"VIA\"])\n",
    "\n",
    "print df_via.brand.value_counts()\n",
    "\n",
    "df_via.brand.value_counts().plot(kind='barh')\n",
    "plt.title('Number of appearances in dataset')\n",
    "plt.xlabel('Frequency')"
   ]
  },
  {
   "cell_type": "markdown",
   "metadata": {},
   "source": [
    "Unlike other TNCs, Via prefer Mercedes. Probably because they have a joint venture: https://www.daimler.com/products/services/mobility-services/via.html"
   ]
  },
  {
   "cell_type": "code",
   "execution_count": 16,
   "metadata": {},
   "outputs": [
    {
     "data": {
      "text/html": [
       "<div>\n",
       "<style scoped>\n",
       "    .dataframe tbody tr th:only-of-type {\n",
       "        vertical-align: middle;\n",
       "    }\n",
       "\n",
       "    .dataframe tbody tr th {\n",
       "        vertical-align: top;\n",
       "    }\n",
       "\n",
       "    .dataframe thead th {\n",
       "        text-align: right;\n",
       "    }\n",
       "</style>\n",
       "<table border=\"1\" class=\"dataframe\">\n",
       "  <thead>\n",
       "    <tr style=\"text-align: right;\">\n",
       "      <th></th>\n",
       "      <th>vehicle_year</th>\n",
       "    </tr>\n",
       "  </thead>\n",
       "  <tbody>\n",
       "    <tr>\n",
       "      <th>count</th>\n",
       "      <td>1620.000000</td>\n",
       "    </tr>\n",
       "    <tr>\n",
       "      <th>mean</th>\n",
       "      <td>2015.901852</td>\n",
       "    </tr>\n",
       "    <tr>\n",
       "      <th>std</th>\n",
       "      <td>24.963858</td>\n",
       "    </tr>\n",
       "    <tr>\n",
       "      <th>min</th>\n",
       "      <td>1014.000000</td>\n",
       "    </tr>\n",
       "    <tr>\n",
       "      <th>25%</th>\n",
       "      <td>2016.000000</td>\n",
       "    </tr>\n",
       "    <tr>\n",
       "      <th>50%</th>\n",
       "      <td>2017.000000</td>\n",
       "    </tr>\n",
       "    <tr>\n",
       "      <th>75%</th>\n",
       "      <td>2018.000000</td>\n",
       "    </tr>\n",
       "    <tr>\n",
       "      <th>max</th>\n",
       "      <td>2018.000000</td>\n",
       "    </tr>\n",
       "  </tbody>\n",
       "</table>\n",
       "</div>"
      ],
      "text/plain": [
       "       vehicle_year\n",
       "count   1620.000000\n",
       "mean    2015.901852\n",
       "std       24.963858\n",
       "min     1014.000000\n",
       "25%     2016.000000\n",
       "50%     2017.000000\n",
       "75%     2018.000000\n",
       "max     2018.000000"
      ]
     },
     "execution_count": 16,
     "metadata": {},
     "output_type": "execute_result"
    }
   ],
   "source": [
    "df_via.describe()"
   ]
  },
  {
   "cell_type": "code",
   "execution_count": 17,
   "metadata": {},
   "outputs": [
    {
     "name": "stdout",
     "output_type": "stream",
     "text": [
      "Toyota           164\n",
      "Honda             55\n",
      "Nissan            27\n",
      "Chevrolet         24\n",
      "Hyundai           10\n",
      "Lexus              8\n",
      "Cadillac           7\n",
      "Lincoln            6\n",
      "Ford               6\n",
      "Mercedes-Benz      5\n",
      "Acura              4\n",
      "Chrysler           3\n",
      "GMC                3\n",
      "Jeep               2\n",
      "Mitsubishi         1\n",
      "Unknown            1\n",
      "BMW                1\n",
      "Buick              1\n",
      "Volkswagen         1\n",
      "Audi               1\n",
      "Name: brand, dtype: int64\n"
     ]
    },
    {
     "data": {
      "text/plain": [
       "Text(0.5,0,'Frequency')"
      ]
     },
     "execution_count": 17,
     "metadata": {},
     "output_type": "execute_result"
    },
    {
     "data": {
      "image/png": "[encoded data removed]",
      "text/plain": [
       "<Figure size 432x288 with 1 Axes>"
      ]
     },
     "metadata": {},
     "output_type": "display_data"
    }
   ],
   "source": [
    "df_juno = pd.DataFrame()\n",
    "\n",
    "df_juno = df_juno.append(df[df['base_name'] == \"JUNO\"])\n",
    "\n",
    "print df_juno.brand.value_counts()\n",
    "\n",
    "df_juno.brand.value_counts().plot(kind='barh')\n",
    "plt.title('Number of appearances in dataset')\n",
    "plt.xlabel('Frequency')"
   ]
  },
  {
   "cell_type": "code",
   "execution_count": 18,
   "metadata": {},
   "outputs": [
    {
     "data": {
      "text/plain": [
       "count     330.000000\n",
       "mean     2015.087879\n",
       "std         1.569515\n",
       "min      2008.000000\n",
       "25%      2014.000000\n",
       "50%      2015.000000\n",
       "75%      2016.000000\n",
       "max      2018.000000\n",
       "Name: vehicle_year, dtype: float64"
      ]
     },
     "execution_count": 18,
     "metadata": {},
     "output_type": "execute_result"
    }
   ],
   "source": [
    "df_juno.vehicle_year.describe()"
   ]
  },
  {
   "cell_type": "code",
   "execution_count": 19,
   "metadata": {},
   "outputs": [
    {
     "name": "stdout",
     "output_type": "stream",
     "text": [
      "WAV    154\n",
      "HYB    119\n",
      "CUR      1\n",
      "Name: veh, dtype: int64\n"
     ]
    },
    {
     "data": {
      "text/plain": [
       "Text(0.5,0,'Frequency')"
      ]
     },
     "execution_count": 19,
     "metadata": {},
     "output_type": "execute_result"
    },
    {
     "data": {
      "image/png": "[encoded data removed]",
      "text/plain": [
       "<Figure size 432x288 with 1 Axes>"
      ]
     },
     "metadata": {},
     "output_type": "display_data"
    }
   ],
   "source": [
    "print df.veh.value_counts()\n",
    "\n",
    "df.veh.value_counts().plot(kind='barh')\n",
    "plt.title('Number of appearances in dataset')\n",
    "plt.xlabel('Frequency')"
   ]
  },
  {
   "cell_type": "code",
   "execution_count": 20,
   "metadata": {},
   "outputs": [
    {
     "data": {
      "text/plain": [
       "WAV    154\n",
       "Name: wheelchair_accessible, dtype: int64"
      ]
     },
     "execution_count": 20,
     "metadata": {},
     "output_type": "execute_result"
    }
   ],
   "source": [
    "df.wheelchair_accessible.value_counts()"
   ]
  },
  {
   "cell_type": "markdown",
   "metadata": {},
   "source": [
    "Sad thing is that there are only wheelchair accessible154 cars used by TNCs in such a big city as New York."
   ]
  },
  {
   "cell_type": "code",
   "execution_count": null,
   "metadata": {},
   "outputs": [],
   "source": []
  }
 ],
 "metadata": {
  "kernelspec": {
   "display_name": "Python 2",
   "language": "python",
   "name": "python2"
  },
  "language_info": {
   "codemirror_mode": {
    "name": "ipython",
    "version": 2
   },
   "file_extension": ".py",
   "mimetype": "text/x-python",
   "name": "python",
   "nbconvert_exporter": "python",
   "pygments_lexer": "ipython2",
   "version": "2.7.15"
  }
 },
 "nbformat": 4,
 "nbformat_minor": 2
}
